{
 "cells": [
  {
   "cell_type": "code",
   "id": "initial_id",
   "metadata": {
    "collapsed": true,
    "ExecuteTime": {
     "end_time": "2024-09-24T14:22:24.372510Z",
     "start_time": "2024-09-24T14:22:24.369005Z"
    }
   },
   "source": [
    "import matplotlib.pyplot as plt\n",
    "from tensorflow.keras.datasets import mnist\n",
    "from tensorflow.keras.models import Sequential\n",
    "from tensorflow.keras.layers import Dense\n",
    "from tensorflow.keras.optimizers import RMSprop"
   ],
   "outputs": [],
   "execution_count": 17
  },
  {
   "metadata": {
    "ExecuteTime": {
     "end_time": "2024-09-24T14:22:24.729736Z",
     "start_time": "2024-09-24T14:22:24.373021Z"
    }
   },
   "cell_type": "code",
   "source": [
    "(train_images, train_labels), _ = mnist.load_data()\n",
    "train_images = train_images.reshape((60000, 28 * 28))\n",
    "train_images = train_images.astype(\"float32\") / 255"
   ],
   "id": "2c11471015445630",
   "outputs": [],
   "execution_count": 18
  },
  {
   "metadata": {
    "ExecuteTime": {
     "end_time": "2024-09-24T14:22:24.739056Z",
     "start_time": "2024-09-24T14:22:24.730746Z"
    }
   },
   "cell_type": "code",
   "source": [
    "model = Sequential([\n",
    "    Dense(512, activation=\"relu\"),\n",
    "    Dense(10, activation=\"softmax\")\n",
    "])\n",
    "model.compile(\n",
    "    optimizer=RMSprop(1.),\n",
    "    loss=\"sparse_categorical_crossentropy\",\n",
    "    metrics=[\"accuracy\"]\n",
    ")"
   ],
   "id": "89726cf1d7a3f218",
   "outputs": [],
   "execution_count": 19
  },
  {
   "metadata": {
    "ExecuteTime": {
     "end_time": "2024-09-24T14:22:33.695086Z",
     "start_time": "2024-09-24T14:22:24.740077Z"
    }
   },
   "cell_type": "code",
   "source": "model.fit(train_images, train_labels, epochs=10, batch_size=128, validation_split=0.2)",
   "id": "206d8d1560fb3cee",
   "outputs": [
    {
     "name": "stdout",
     "output_type": "stream",
     "text": [
      "Epoch 1/10\n",
      "\u001B[1m375/375\u001B[0m \u001B[32m━━━━━━━━━━━━━━━━━━━━\u001B[0m\u001B[37m\u001B[0m \u001B[1m1s\u001B[0m 2ms/step - accuracy: 0.4172 - loss: 2586.4375 - val_accuracy: 0.2188 - val_loss: 2.1708\n",
      "Epoch 2/10\n",
      "\u001B[1m375/375\u001B[0m \u001B[32m━━━━━━━━━━━━━━━━━━━━\u001B[0m\u001B[37m\u001B[0m \u001B[1m1s\u001B[0m 2ms/step - accuracy: 0.1920 - loss: 2.9254 - val_accuracy: 0.2071 - val_loss: 37.1633\n",
      "Epoch 3/10\n",
      "\u001B[1m375/375\u001B[0m \u001B[32m━━━━━━━━━━━━━━━━━━━━\u001B[0m\u001B[37m\u001B[0m \u001B[1m1s\u001B[0m 2ms/step - accuracy: 0.2158 - loss: 3.0001 - val_accuracy: 0.1961 - val_loss: 2.1658\n",
      "Epoch 4/10\n",
      "\u001B[1m375/375\u001B[0m \u001B[32m━━━━━━━━━━━━━━━━━━━━\u001B[0m\u001B[37m\u001B[0m \u001B[1m1s\u001B[0m 2ms/step - accuracy: 0.1987 - loss: 2.7488 - val_accuracy: 0.1744 - val_loss: 2.5217\n",
      "Epoch 5/10\n",
      "\u001B[1m375/375\u001B[0m \u001B[32m━━━━━━━━━━━━━━━━━━━━\u001B[0m\u001B[37m\u001B[0m \u001B[1m1s\u001B[0m 3ms/step - accuracy: 0.1556 - loss: 2.3661 - val_accuracy: 0.1669 - val_loss: 2.3890\n",
      "Epoch 6/10\n",
      "\u001B[1m375/375\u001B[0m \u001B[32m━━━━━━━━━━━━━━━━━━━━\u001B[0m\u001B[37m\u001B[0m \u001B[1m1s\u001B[0m 2ms/step - accuracy: 0.1684 - loss: 2.4013 - val_accuracy: 0.1839 - val_loss: 2.6177\n",
      "Epoch 7/10\n",
      "\u001B[1m375/375\u001B[0m \u001B[32m━━━━━━━━━━━━━━━━━━━━\u001B[0m\u001B[37m\u001B[0m \u001B[1m1s\u001B[0m 2ms/step - accuracy: 0.1574 - loss: 2.5816 - val_accuracy: 0.1562 - val_loss: 2.4728\n",
      "Epoch 8/10\n",
      "\u001B[1m375/375\u001B[0m \u001B[32m━━━━━━━━━━━━━━━━━━━━\u001B[0m\u001B[37m\u001B[0m \u001B[1m1s\u001B[0m 2ms/step - accuracy: 0.1684 - loss: 2.4987 - val_accuracy: 0.1719 - val_loss: 2.5546\n",
      "Epoch 9/10\n",
      "\u001B[1m375/375\u001B[0m \u001B[32m━━━━━━━━━━━━━━━━━━━━\u001B[0m\u001B[37m\u001B[0m \u001B[1m1s\u001B[0m 2ms/step - accuracy: 0.1756 - loss: 2.4333 - val_accuracy: 0.2117 - val_loss: 2.4751\n",
      "Epoch 10/10\n",
      "\u001B[1m375/375\u001B[0m \u001B[32m━━━━━━━━━━━━━━━━━━━━\u001B[0m\u001B[37m\u001B[0m \u001B[1m1s\u001B[0m 2ms/step - accuracy: 0.1876 - loss: 2.5286 - val_accuracy: 0.1758 - val_loss: 2.2120\n"
     ]
    },
    {
     "data": {
      "text/plain": [
       "<keras.src.callbacks.history.History at 0x1edf48bcd10>"
      ]
     },
     "execution_count": 20,
     "metadata": {},
     "output_type": "execute_result"
    }
   ],
   "execution_count": 20
  },
  {
   "metadata": {
    "ExecuteTime": {
     "end_time": "2024-09-24T14:22:33.703235Z",
     "start_time": "2024-09-24T14:22:33.695086Z"
    }
   },
   "cell_type": "code",
   "source": [
    "model = Sequential([\n",
    "    Dense(512, activation=\"relu\"),\n",
    "    Dense(10, activation=\"softmax\")\n",
    "])\n",
    "model.compile(\n",
    "    optimizer=RMSprop(1e-2),\n",
    "    loss=\"sparse_categorical_crossentropy\",\n",
    "    metrics=[\"accuracy\"]\n",
    ")"
   ],
   "id": "9430b2c16323e390",
   "outputs": [],
   "execution_count": 21
  },
  {
   "metadata": {
    "ExecuteTime": {
     "end_time": "2024-09-24T14:22:42.878259Z",
     "start_time": "2024-09-24T14:22:33.703751Z"
    }
   },
   "cell_type": "code",
   "source": "model.fit(train_images, train_labels, epochs=10, batch_size=128, validation_split=0.2)",
   "id": "4abf8bfca05e41cd",
   "outputs": [
    {
     "name": "stdout",
     "output_type": "stream",
     "text": [
      "Epoch 1/10\n",
      "\u001B[1m375/375\u001B[0m \u001B[32m━━━━━━━━━━━━━━━━━━━━\u001B[0m\u001B[37m\u001B[0m \u001B[1m1s\u001B[0m 2ms/step - accuracy: 0.8357 - loss: 0.8847 - val_accuracy: 0.9544 - val_loss: 0.1610\n",
      "Epoch 2/10\n",
      "\u001B[1m375/375\u001B[0m \u001B[32m━━━━━━━━━━━━━━━━━━━━\u001B[0m\u001B[37m\u001B[0m \u001B[1m1s\u001B[0m 2ms/step - accuracy: 0.9635 - loss: 0.1255 - val_accuracy: 0.9614 - val_loss: 0.1525\n",
      "Epoch 3/10\n",
      "\u001B[1m375/375\u001B[0m \u001B[32m━━━━━━━━━━━━━━━━━━━━\u001B[0m\u001B[37m\u001B[0m \u001B[1m1s\u001B[0m 2ms/step - accuracy: 0.9751 - loss: 0.0879 - val_accuracy: 0.9651 - val_loss: 0.1539\n",
      "Epoch 4/10\n",
      "\u001B[1m375/375\u001B[0m \u001B[32m━━━━━━━━━━━━━━━━━━━━\u001B[0m\u001B[37m\u001B[0m \u001B[1m1s\u001B[0m 2ms/step - accuracy: 0.9811 - loss: 0.0734 - val_accuracy: 0.9647 - val_loss: 0.1932\n",
      "Epoch 5/10\n",
      "\u001B[1m375/375\u001B[0m \u001B[32m━━━━━━━━━━━━━━━━━━━━\u001B[0m\u001B[37m\u001B[0m \u001B[1m1s\u001B[0m 2ms/step - accuracy: 0.9842 - loss: 0.0605 - val_accuracy: 0.9662 - val_loss: 0.1831\n",
      "Epoch 6/10\n",
      "\u001B[1m375/375\u001B[0m \u001B[32m━━━━━━━━━━━━━━━━━━━━\u001B[0m\u001B[37m\u001B[0m \u001B[1m1s\u001B[0m 2ms/step - accuracy: 0.9861 - loss: 0.0526 - val_accuracy: 0.9720 - val_loss: 0.1716\n",
      "Epoch 7/10\n",
      "\u001B[1m375/375\u001B[0m \u001B[32m━━━━━━━━━━━━━━━━━━━━\u001B[0m\u001B[37m\u001B[0m \u001B[1m1s\u001B[0m 2ms/step - accuracy: 0.9894 - loss: 0.0409 - val_accuracy: 0.9729 - val_loss: 0.1801\n",
      "Epoch 8/10\n",
      "\u001B[1m375/375\u001B[0m \u001B[32m━━━━━━━━━━━━━━━━━━━━\u001B[0m\u001B[37m\u001B[0m \u001B[1m1s\u001B[0m 2ms/step - accuracy: 0.9906 - loss: 0.0402 - val_accuracy: 0.9746 - val_loss: 0.1964\n",
      "Epoch 9/10\n",
      "\u001B[1m375/375\u001B[0m \u001B[32m━━━━━━━━━━━━━━━━━━━━\u001B[0m\u001B[37m\u001B[0m \u001B[1m1s\u001B[0m 2ms/step - accuracy: 0.9919 - loss: 0.0337 - val_accuracy: 0.9725 - val_loss: 0.2163\n",
      "Epoch 10/10\n",
      "\u001B[1m375/375\u001B[0m \u001B[32m━━━━━━━━━━━━━━━━━━━━\u001B[0m\u001B[37m\u001B[0m \u001B[1m1s\u001B[0m 2ms/step - accuracy: 0.9913 - loss: 0.0399 - val_accuracy: 0.9751 - val_loss: 0.2169\n"
     ]
    },
    {
     "data": {
      "text/plain": [
       "<keras.src.callbacks.history.History at 0x1edf50b15b0>"
      ]
     },
     "execution_count": 22,
     "metadata": {},
     "output_type": "execute_result"
    }
   ],
   "execution_count": 22
  },
  {
   "metadata": {
    "ExecuteTime": {
     "end_time": "2024-09-24T14:25:50.548157Z",
     "start_time": "2024-09-24T14:25:38.606018Z"
    }
   },
   "cell_type": "code",
   "source": [
    "model = Sequential([\n",
    "    Dense(96, activation=\"relu\"),\n",
    "    Dense(96, activation=\"relu\"),\n",
    "    Dense(10, activation=\"softmax\")\n",
    "])\n",
    "model.compile(\n",
    "    optimizer=\"rmsprop\",\n",
    "    loss=\"sparse_categorical_crossentropy\",\n",
    "    metrics=[\"accuracy\"]\n",
    ")\n",
    "\n",
    "history_small_model = model.fit(train_images, train_labels, epochs=20, batch_size=128, validation_split=0.2)"
   ],
   "id": "936d496146274d18",
   "outputs": [
    {
     "name": "stdout",
     "output_type": "stream",
     "text": [
      "Epoch 1/20\n",
      "\u001B[1m375/375\u001B[0m \u001B[32m━━━━━━━━━━━━━━━━━━━━\u001B[0m\u001B[37m\u001B[0m \u001B[1m1s\u001B[0m 2ms/step - accuracy: 0.8250 - loss: 0.6405 - val_accuracy: 0.9487 - val_loss: 0.1758\n",
      "Epoch 2/20\n",
      "\u001B[1m375/375\u001B[0m \u001B[32m━━━━━━━━━━━━━━━━━━━━\u001B[0m\u001B[37m\u001B[0m \u001B[1m1s\u001B[0m 1ms/step - accuracy: 0.9485 - loss: 0.1741 - val_accuracy: 0.9579 - val_loss: 0.1419\n",
      "Epoch 3/20\n",
      "\u001B[1m375/375\u001B[0m \u001B[32m━━━━━━━━━━━━━━━━━━━━\u001B[0m\u001B[37m\u001B[0m \u001B[1m1s\u001B[0m 1ms/step - accuracy: 0.9658 - loss: 0.1149 - val_accuracy: 0.9614 - val_loss: 0.1290\n",
      "Epoch 4/20\n",
      "\u001B[1m375/375\u001B[0m \u001B[32m━━━━━━━━━━━━━━━━━━━━\u001B[0m\u001B[37m\u001B[0m \u001B[1m1s\u001B[0m 1ms/step - accuracy: 0.9724 - loss: 0.0912 - val_accuracy: 0.9672 - val_loss: 0.1118\n",
      "Epoch 5/20\n",
      "\u001B[1m375/375\u001B[0m \u001B[32m━━━━━━━━━━━━━━━━━━━━\u001B[0m\u001B[37m\u001B[0m \u001B[1m1s\u001B[0m 1ms/step - accuracy: 0.9788 - loss: 0.0717 - val_accuracy: 0.9723 - val_loss: 0.0950\n",
      "Epoch 6/20\n",
      "\u001B[1m375/375\u001B[0m \u001B[32m━━━━━━━━━━━━━━━━━━━━\u001B[0m\u001B[37m\u001B[0m \u001B[1m1s\u001B[0m 1ms/step - accuracy: 0.9827 - loss: 0.0589 - val_accuracy: 0.9719 - val_loss: 0.0956\n",
      "Epoch 7/20\n",
      "\u001B[1m375/375\u001B[0m \u001B[32m━━━━━━━━━━━━━━━━━━━━\u001B[0m\u001B[37m\u001B[0m \u001B[1m1s\u001B[0m 1ms/step - accuracy: 0.9861 - loss: 0.0485 - val_accuracy: 0.9693 - val_loss: 0.1131\n",
      "Epoch 8/20\n",
      "\u001B[1m375/375\u001B[0m \u001B[32m━━━━━━━━━━━━━━━━━━━━\u001B[0m\u001B[37m\u001B[0m \u001B[1m1s\u001B[0m 1ms/step - accuracy: 0.9882 - loss: 0.0387 - val_accuracy: 0.9707 - val_loss: 0.1066\n",
      "Epoch 9/20\n",
      "\u001B[1m375/375\u001B[0m \u001B[32m━━━━━━━━━━━━━━━━━━━━\u001B[0m\u001B[37m\u001B[0m \u001B[1m1s\u001B[0m 1ms/step - accuracy: 0.9896 - loss: 0.0351 - val_accuracy: 0.9735 - val_loss: 0.1033\n",
      "Epoch 10/20\n",
      "\u001B[1m375/375\u001B[0m \u001B[32m━━━━━━━━━━━━━━━━━━━━\u001B[0m\u001B[37m\u001B[0m \u001B[1m1s\u001B[0m 1ms/step - accuracy: 0.9913 - loss: 0.0276 - val_accuracy: 0.9717 - val_loss: 0.1037\n",
      "Epoch 11/20\n",
      "\u001B[1m375/375\u001B[0m \u001B[32m━━━━━━━━━━━━━━━━━━━━\u001B[0m\u001B[37m\u001B[0m \u001B[1m1s\u001B[0m 1ms/step - accuracy: 0.9924 - loss: 0.0236 - val_accuracy: 0.9744 - val_loss: 0.0996\n",
      "Epoch 12/20\n",
      "\u001B[1m375/375\u001B[0m \u001B[32m━━━━━━━━━━━━━━━━━━━━\u001B[0m\u001B[37m\u001B[0m \u001B[1m1s\u001B[0m 1ms/step - accuracy: 0.9934 - loss: 0.0201 - val_accuracy: 0.9700 - val_loss: 0.1177\n",
      "Epoch 13/20\n",
      "\u001B[1m375/375\u001B[0m \u001B[32m━━━━━━━━━━━━━━━━━━━━\u001B[0m\u001B[37m\u001B[0m \u001B[1m1s\u001B[0m 1ms/step - accuracy: 0.9941 - loss: 0.0185 - val_accuracy: 0.9737 - val_loss: 0.1071\n",
      "Epoch 14/20\n",
      "\u001B[1m375/375\u001B[0m \u001B[32m━━━━━━━━━━━━━━━━━━━━\u001B[0m\u001B[37m\u001B[0m \u001B[1m1s\u001B[0m 1ms/step - accuracy: 0.9958 - loss: 0.0140 - val_accuracy: 0.9747 - val_loss: 0.1140\n",
      "Epoch 15/20\n",
      "\u001B[1m375/375\u001B[0m \u001B[32m━━━━━━━━━━━━━━━━━━━━\u001B[0m\u001B[37m\u001B[0m \u001B[1m1s\u001B[0m 1ms/step - accuracy: 0.9963 - loss: 0.0122 - val_accuracy: 0.9734 - val_loss: 0.1207\n",
      "Epoch 16/20\n",
      "\u001B[1m375/375\u001B[0m \u001B[32m━━━━━━━━━━━━━━━━━━━━\u001B[0m\u001B[37m\u001B[0m \u001B[1m1s\u001B[0m 1ms/step - accuracy: 0.9973 - loss: 0.0097 - val_accuracy: 0.9721 - val_loss: 0.1284\n",
      "Epoch 17/20\n",
      "\u001B[1m375/375\u001B[0m \u001B[32m━━━━━━━━━━━━━━━━━━━━\u001B[0m\u001B[37m\u001B[0m \u001B[1m1s\u001B[0m 1ms/step - accuracy: 0.9972 - loss: 0.0101 - val_accuracy: 0.9742 - val_loss: 0.1273\n",
      "Epoch 18/20\n",
      "\u001B[1m375/375\u001B[0m \u001B[32m━━━━━━━━━━━━━━━━━━━━\u001B[0m\u001B[37m\u001B[0m \u001B[1m1s\u001B[0m 1ms/step - accuracy: 0.9978 - loss: 0.0070 - val_accuracy: 0.9751 - val_loss: 0.1334\n",
      "Epoch 19/20\n",
      "\u001B[1m375/375\u001B[0m \u001B[32m━━━━━━━━━━━━━━━━━━━━\u001B[0m\u001B[37m\u001B[0m \u001B[1m1s\u001B[0m 1ms/step - accuracy: 0.9979 - loss: 0.0067 - val_accuracy: 0.9761 - val_loss: 0.1380\n",
      "Epoch 20/20\n",
      "\u001B[1m375/375\u001B[0m \u001B[32m━━━━━━━━━━━━━━━━━━━━\u001B[0m\u001B[37m\u001B[0m \u001B[1m1s\u001B[0m 2ms/step - accuracy: 0.9987 - loss: 0.0052 - val_accuracy: 0.9771 - val_loss: 0.1335\n"
     ]
    }
   ],
   "execution_count": 25
  },
  {
   "metadata": {
    "ExecuteTime": {
     "end_time": "2024-09-24T14:25:58.671228Z",
     "start_time": "2024-09-24T14:25:58.579307Z"
    }
   },
   "cell_type": "code",
   "source": [
    "val_loss = history_small_model.history[\"val_loss\"]\n",
    "epochs = range(1, 21)\n",
    "plt.plot(epochs, val_loss, \"b--\", label=\"Validation loss\")\n",
    "plt.title(\"Effect of insufficient model capacity on validation loss\")\n",
    "plt.xlabel(\"Epochs\")\n",
    "plt.ylabel(\"Loss\")\n",
    "plt.legend()\n",
    "plt.show()"
   ],
   "id": "e0d369d46bf44be7",
   "outputs": [
    {
     "data": {
      "text/plain": [
       "<Figure size 640x480 with 1 Axes>"
      ],
      "image/png": "[encoded data removed]"
     },
     "metadata": {},
     "output_type": "display_data"
    }
   ],
   "execution_count": 26
  }
 ],
 "metadata": {
  "kernelspec": {
   "display_name": "Python 3",
   "language": "python",
   "name": "python3"
  },
  "language_info": {
   "codemirror_mode": {
    "name": "ipython",
    "version": 2
   },
   "file_extension": ".py",
   "mimetype": "text/x-python",
   "name": "python",
   "nbconvert_exporter": "python",
   "pygments_lexer": "ipython2",
   "version": "2.7.6"
  }
 },
 "nbformat": 4,
 "nbformat_minor": 5
}
